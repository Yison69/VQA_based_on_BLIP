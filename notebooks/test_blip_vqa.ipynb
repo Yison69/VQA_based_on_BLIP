{
 "cells": [
  {
   "cell_type": "code",
   "execution_count": 10,
   "id": "22351bf8-f75a-4379-8ac5-594586f5bd2f",
   "metadata": {
    "scrolled": true
   },
   "outputs": [
    {
     "name": "stdout",
     "output_type": "stream",
     "text": [
      "Using device: cpu\n",
      "Loading BLIP VQA model...\n",
      "Model loaded successfully!\n",
      "\n",
      "Question: please describe the girl in the picture\n",
      "Answer: asian\n"
     ]
    }
   ],
   "source": [
    "# 导入必要的库\n",
    "import torch\n",
    "from PIL import Image\n",
    "from lavis.models import load_model_and_preprocess\n",
    "\n",
    "# ---- 1. 设置运行设备 (GPU或CPU) ----\n",
    "device = torch.device(\"cuda\" if torch.cuda.is_available() else \"cpu\")\n",
    "print(f\"Using device: {device}\")\n",
    "\n",
    "# ---- 2. 加载预训练的BLIP VQA模型 ----\n",
    "print(\"Loading BLIP VQA model...\")\n",
    "model, vis_processors, txt_processors = load_model_and_preprocess(\n",
    "    name=\"blip_vqa\", model_type=\"vqav2\", is_eval=True, device=device\n",
    ")\n",
    "print(\"Model loaded successfully!\")\n",
    "\n",
    "# ---- 3. 准备示例图片和问题 ----\n",
    "try:\n",
    "    raw_image = Image.open(\"test_image.jpg\").convert(\"RGB\")\n",
    "    question = \"please describe the girl in the picture,u should \" # 你可以把问题换成任何你想问的英文问题\n",
    "\n",
    "    image = vis_processors[\"eval\"](raw_image).unsqueeze(0).to(device)\n",
    "    question_processed = txt_processors[\"eval\"](question)\n",
    "\n",
    "    # ---- 4. 使用模型进行提问和回答 ----\n",
    "    print(f\"\\nQuestion: {question}\")\n",
    "    answers = model.predict_answers(\n",
    "        samples={\"image\": image, \"text_input\": [question_processed]},\n",
    "        inference_method=\"generate\"\n",
    "    )\n",
    "    print(f\"Answer: {answers[0]}\")\n",
    "\n",
    "except FileNotFoundError:\n",
    "    print(\"\\n错误：找不到名为 'test_image.jpg' 的图片。\")\n",
    "    print(\"请确保你已经将一张图片放在了项目的根目录下，并已正确命名。\")"
   ]
  },
  {
   "cell_type": "code",
   "execution_count": 4,
   "id": "661a1646-30f0-42f1-b96b-65197de0e446",
   "metadata": {},
   "outputs": [
    {
     "name": "stdout",
     "output_type": "stream",
     "text": [
      "/Users/huangyisong/Desktop/zju/course/cv/lab/VQA_based_on_BLIP\n"
     ]
    }
   ],
   "source": [
    "!pwd"
   ]
  },
  {
   "cell_type": "code",
   "execution_count": 3,
   "id": "471fbdee-f2c8-4840-be82-33d2e7faf629",
   "metadata": {},
   "outputs": [
    {
     "name": "stdout",
     "output_type": "stream",
     "text": [
      "/Users/huangyisong/Desktop/zju/course/cv/lab/VQA_based_on_BLIP\n"
     ]
    },
    {
     "name": "stderr",
     "output_type": "stream",
     "text": [
      "/opt/miniconda3/envs/VQA_clean_env/lib/python3.10/site-packages/IPython/core/magics/osm.py:417: UserWarning: This is now an optional IPython functionality, setting dhist requires you to install the `pickleshare` library.\n",
      "  self.shell.db['dhist'] = compress_dhist(dhist)[-100:]\n"
     ]
    }
   ],
   "source": [
    "cd .."
   ]
  },
  {
   "cell_type": "code",
   "execution_count": 4,
   "id": "51cadead-28a6-4104-bedd-fe576b83593a",
   "metadata": {},
   "outputs": [
    {
     "name": "stdout",
     "output_type": "stream",
     "text": [
      "/Users/huangyisong/Desktop/zju/course/cv/lab\n"
     ]
    }
   ],
   "source": [
    "cd .."
   ]
  },
  {
   "cell_type": "code",
   "execution_count": 5,
   "id": "1faa553b-07ee-4142-b8c1-802f483f01e4",
   "metadata": {},
   "outputs": [
    {
     "name": "stdout",
     "output_type": "stream",
     "text": [
      "/Users/huangyisong/Desktop/zju/course/cv/lab/VQA_based_on_BLIP\n"
     ]
    }
   ],
   "source": [
    "cd VQA_based_on_BLIP"
   ]
  },
  {
   "cell_type": "code",
   "execution_count": 6,
   "id": "196b86d5-a939-4d27-b2af-6f6c01a4b5d2",
   "metadata": {},
   "outputs": [
    {
     "name": "stdout",
     "output_type": "stream",
     "text": [
      "decord.py\n"
     ]
    }
   ],
   "source": [
    "!ls decord.py"
   ]
  },
  {
   "cell_type": "code",
   "execution_count": null,
   "id": "cadc08c3-0295-4885-9a39-6a2ed227907b",
   "metadata": {},
   "outputs": [],
   "source": []
  }
 ],
 "metadata": {
  "kernelspec": {
   "display_name": "Python 3 (ipykernel)",
   "language": "python",
   "name": "python3"
  },
  "language_info": {
   "codemirror_mode": {
    "name": "ipython",
    "version": 3
   },
   "file_extension": ".py",
   "mimetype": "text/x-python",
   "name": "python",
   "nbconvert_exporter": "python",
   "pygments_lexer": "ipython3",
   "version": "3.10.18"
  }
 },
 "nbformat": 4,
 "nbformat_minor": 5
}
