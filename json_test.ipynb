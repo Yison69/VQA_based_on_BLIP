{
 "cells": [
  {
   "cell_type": "code",
   "execution_count": 1,
   "id": "0c50c82e-c201-4822-a0df-7e2f3c883141",
   "metadata": {},
   "outputs": [
    {
     "name": "stdout",
     "output_type": "stream",
     "text": [
      "--- 正在尝试加载: /root/autodl-tmp/VQA_BLIP/VQA_based_on_BLIP/dataset/vqav2/v2_mscoco_train2014_annotations.json ---\n",
      "\n",
      "✅ 成功! 文件已作为JSON成功加载和解析。\n",
      "\n",
      "加载后数据的顶层类型是: <class 'dict'>\n",
      "JSON文件是一个字典，包含的键 (keys): ['info', 'license', 'data_subtype', 'annotations', 'data_type']\n",
      "data['annotations'] 的类型是: <class 'list'>\n",
      "列表中第一个标注条目的类型是: <class 'dict'>\n",
      "✅ 结构正确! 第一个条目是字典，符合预期。\n",
      "第一个条目示例: {'question_type': 'what is this', 'multiple_choice_answer': 'net', 'answers': [{'answer': 'net', 'answer_confidence': 'maybe', 'answer_id': 1}, {'answer': 'net', 'answer_confidence': 'yes', 'answer_id': 2}, {'answer': 'net', 'answer_confidence': 'yes', 'answer_id': 3}, {'answer': 'netting', 'answer_confidence': 'yes', 'answer_id': 4}, {'answer': 'net', 'answer_confidence': 'yes', 'answer_id': 5}, {'answer': 'net', 'answer_confidence': 'yes', 'answer_id': 6}, {'answer': 'mesh', 'answer_confidence': 'maybe', 'answer_id': 7}, {'answer': 'net', 'answer_confidence': 'yes', 'answer_id': 8}, {'answer': 'net', 'answer_confidence': 'yes', 'answer_id': 9}, {'answer': 'net', 'answer_confidence': 'yes', 'answer_id': 10}]}\n"
     ]
    }
   ],
   "source": [
    "import json\n",
    "\n",
    "# 我们来专门测试一下训练集的“答案”标注文件\n",
    "file_path = \"/root/autodl-tmp/VQA_BLIP/VQA_based_on_BLIP/dataset/vqav2/v2_mscoco_train2014_annotations.json\"\n",
    "\n",
    "print(f\"--- 正在尝试加载: {file_path} ---\")\n",
    "\n",
    "try:\n",
    "    with open(file_path, 'r') as f:\n",
    "        data = json.load(f)\n",
    "\n",
    "    print(\"\\n✅ 成功! 文件已作为JSON成功加载和解析。\")\n",
    "\n",
    "    # 现在，我们来检查一下数据的内部结构\n",
    "    print(f\"\\n加载后数据的顶层类型是: {type(data)}\")\n",
    "\n",
    "    if isinstance(data, dict):\n",
    "        print(f\"JSON文件是一个字典，包含的键 (keys): {list(data.keys())}\")\n",
    "        \n",
    "        # VQA 标注数据应该在 'annotations' 这个键下面\n",
    "        if 'annotations' in data:\n",
    "            annotations_list = data['annotations']\n",
    "            print(f\"data['annotations'] 的类型是: {type(annotations_list)}\")\n",
    "            \n",
    "            if isinstance(annotations_list, list) and len(annotations_list) > 0:\n",
    "                first_annotation = annotations_list[0]\n",
    "                print(f\"列表中第一个标注条目的类型是: {type(first_annotation)}\")\n",
    "                \n",
    "                if isinstance(first_annotation, dict):\n",
    "                    print(\"✅ 结构正确! 第一个条目是字典，符合预期。\")\n",
    "                    # 打印第一个标注条目的前3个键值对作为示例\n",
    "                    print(f\"第一个条目示例: {dict(list(first_annotation.items())[:3])}\")\n",
    "                else:\n",
    "                    print(f\"❌ 根本问题! 'annotations' 列表中的条目不是字典，而是 {type(first_annotation)}。\")\n",
    "            else:\n",
    "                print(\"❌ 根本问题! data['annotations'] 不是列表或为空。\")\n",
    "    else:\n",
    "        print(f\"❌ 根本问题! JSON文件的顶层结构不是一个字典，而是 {type(data)}。\")\n",
    "\n",
    "except json.JSONDecodeError as e:\n",
    "    print(f\"\\n❌ 致命错误: 该文件不是一个有效的JSON文件。文件可能已损坏。\")\n",
    "    print(f\"错误详情: {e}\")\n",
    "except FileNotFoundError:\n",
    "    print(f\"\\n❌ 致命错误: 路径不正确，找不到文件。\")\n",
    "except Exception as e:\n",
    "    print(f\"\\n❌ 发生未知错误: {e}\")"
   ]
  },
  {
   "cell_type": "code",
   "execution_count": null,
   "id": "b91518a2-db81-46a5-b743-271a810e62dc",
   "metadata": {},
   "outputs": [],
   "source": []
  }
 ],
 "metadata": {
  "kernelspec": {
   "display_name": "Python 3 (ipykernel)",
   "language": "python",
   "name": "python3"
  },
  "language_info": {
   "codemirror_mode": {
    "name": "ipython",
    "version": 3
   },
   "file_extension": ".py",
   "mimetype": "text/x-python",
   "name": "python",
   "nbconvert_exporter": "python",
   "pygments_lexer": "ipython3",
   "version": "3.10.18"
  }
 },
 "nbformat": 4,
 "nbformat_minor": 5
}
